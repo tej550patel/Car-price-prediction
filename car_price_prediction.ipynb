{
 "cells": [
  {
   "cell_type": "code",
   "execution_count": 1,
   "metadata": {},
   "outputs": [],
   "source": [
    "import pandas as pd\n",
    "import numpy as np\n",
    "import seaborn as sns\n",
    "import matplotlib.pyplot as plt\n",
    "from sklearn.model_selection import train_test_split\n",
    "%matplotlib inline"
   ]
  },
  {
   "cell_type": "code",
   "execution_count": 2,
   "metadata": {},
   "outputs": [],
   "source": [
    "train = pd.read_csv('train.csv')\n",
    "test = pd.read_csv('test.csv')"
   ]
  },
  {
   "cell_type": "code",
   "execution_count": 3,
   "metadata": {},
   "outputs": [
    {
     "data": {
      "text/html": [
       "<div>\n",
       "<style scoped>\n",
       "    .dataframe tbody tr th:only-of-type {\n",
       "        vertical-align: middle;\n",
       "    }\n",
       "\n",
       "    .dataframe tbody tr th {\n",
       "        vertical-align: top;\n",
       "    }\n",
       "\n",
       "    .dataframe thead th {\n",
       "        text-align: right;\n",
       "    }\n",
       "</style>\n",
       "<table border=\"1\" class=\"dataframe\">\n",
       "  <thead>\n",
       "    <tr style=\"text-align: right;\">\n",
       "      <th></th>\n",
       "      <th>Car ID</th>\n",
       "      <th>Company</th>\n",
       "      <th>Model</th>\n",
       "      <th>Manufacture</th>\n",
       "      <th>Transmission</th>\n",
       "      <th>Travelled</th>\n",
       "      <th>Fuel</th>\n",
       "      <th>GST</th>\n",
       "      <th>Mileage</th>\n",
       "      <th>Engine</th>\n",
       "      <th>Price</th>\n",
       "    </tr>\n",
       "  </thead>\n",
       "  <tbody>\n",
       "    <tr>\n",
       "      <th>0</th>\n",
       "      <td>13207</td>\n",
       "      <td>hyundi</td>\n",
       "      <td>Santa Fe</td>\n",
       "      <td>2019</td>\n",
       "      <td>Semi-Auto</td>\n",
       "      <td>4223</td>\n",
       "      <td>Diesel</td>\n",
       "      <td>145</td>\n",
       "      <td>39.8</td>\n",
       "      <td>2.2</td>\n",
       "      <td>31995</td>\n",
       "    </tr>\n",
       "    <tr>\n",
       "      <th>1</th>\n",
       "      <td>17314</td>\n",
       "      <td>vauxhall</td>\n",
       "      <td>GTC</td>\n",
       "      <td>2015</td>\n",
       "      <td>Manual</td>\n",
       "      <td>47870</td>\n",
       "      <td>Diesel</td>\n",
       "      <td>125</td>\n",
       "      <td>60.1</td>\n",
       "      <td>2.0</td>\n",
       "      <td>7700</td>\n",
       "    </tr>\n",
       "    <tr>\n",
       "      <th>2</th>\n",
       "      <td>12342</td>\n",
       "      <td>audi</td>\n",
       "      <td>RS4</td>\n",
       "      <td>2019</td>\n",
       "      <td>Automatic</td>\n",
       "      <td>5151</td>\n",
       "      <td>Petrol</td>\n",
       "      <td>145</td>\n",
       "      <td>29.1</td>\n",
       "      <td>2.9</td>\n",
       "      <td>58990</td>\n",
       "    </tr>\n",
       "    <tr>\n",
       "      <th>3</th>\n",
       "      <td>13426</td>\n",
       "      <td>vw</td>\n",
       "      <td>Scirocco</td>\n",
       "      <td>2016</td>\n",
       "      <td>Automatic</td>\n",
       "      <td>20423</td>\n",
       "      <td>Diesel</td>\n",
       "      <td>30</td>\n",
       "      <td>57.6</td>\n",
       "      <td>2.0</td>\n",
       "      <td>12999</td>\n",
       "    </tr>\n",
       "    <tr>\n",
       "      <th>4</th>\n",
       "      <td>16004</td>\n",
       "      <td>skoda</td>\n",
       "      <td>Scala</td>\n",
       "      <td>2020</td>\n",
       "      <td>Semi-Auto</td>\n",
       "      <td>3569</td>\n",
       "      <td>Petrol</td>\n",
       "      <td>145</td>\n",
       "      <td>47.1</td>\n",
       "      <td>1.0</td>\n",
       "      <td>16990</td>\n",
       "    </tr>\n",
       "  </tbody>\n",
       "</table>\n",
       "</div>"
      ],
      "text/plain": [
       "   Car ID   Company      Model  Manufacture Transmission  Travelled    Fuel  \\\n",
       "0   13207    hyundi   Santa Fe         2019    Semi-Auto       4223  Diesel   \n",
       "1   17314  vauxhall        GTC         2015       Manual      47870  Diesel   \n",
       "2   12342      audi        RS4         2019    Automatic       5151  Petrol   \n",
       "3   13426        vw   Scirocco         2016    Automatic      20423  Diesel   \n",
       "4   16004     skoda      Scala         2020    Semi-Auto       3569  Petrol   \n",
       "\n",
       "   GST  Mileage  Engine  Price  \n",
       "0  145     39.8     2.2  31995  \n",
       "1  125     60.1     2.0   7700  \n",
       "2  145     29.1     2.9  58990  \n",
       "3   30     57.6     2.0  12999  \n",
       "4  145     47.1     1.0  16990  "
      ]
     },
     "execution_count": 3,
     "metadata": {},
     "output_type": "execute_result"
    }
   ],
   "source": [
    "train.head()"
   ]
  },
  {
   "cell_type": "markdown",
   "metadata": {},
   "source": [
    "## EDA"
   ]
  },
  {
   "cell_type": "code",
   "execution_count": 4,
   "metadata": {},
   "outputs": [
    {
     "data": {
      "text/plain": [
       "Car ID          0\n",
       "Company         0\n",
       "Model           0\n",
       "Manufacture     0\n",
       "Transmission    0\n",
       "Travelled       0\n",
       "Fuel            0\n",
       "GST             0\n",
       "Mileage         0\n",
       "Engine          0\n",
       "Price           0\n",
       "dtype: int64"
      ]
     },
     "execution_count": 4,
     "metadata": {},
     "output_type": "execute_result"
    }
   ],
   "source": [
    "#check for missing values\n",
    "train.isnull().sum()"
   ]
  },
  {
   "cell_type": "code",
   "execution_count": 110,
   "metadata": {},
   "outputs": [
    {
     "name": "stderr",
     "output_type": "stream",
     "text": [
      "c:\\Users\\TAJ\\anaconda3\\lib\\site-packages\\seaborn\\distributions.py:2557: FutureWarning: `distplot` is a deprecated function and will be removed in a future version. Please adapt your code to use either `displot` (a figure-level function with similar flexibility) or `histplot` (an axes-level function for histograms).\n",
      "  warnings.warn(msg, FutureWarning)\n"
     ]
    },
    {
     "data": {
      "image/png": "[encoded data removed]",
      "text/plain": [
       "<Figure size 1080x720 with 1 Axes>"
      ]
     },
     "metadata": {},
     "output_type": "display_data"
    }
   ],
   "source": [
    "#check for the distribution of the target variable\n",
    "sns.set_style(\"whitegrid\")\n",
    "plt.figure(figsize=(15, 10))\n",
    "sns.distplot(train.Price)\n",
    "plt.show()"
   ]
  },
  {
   "cell_type": "code",
   "execution_count": 111,
   "metadata": {},
   "outputs": [
    {
     "data": {
      "image/png": "[encoded data removed]",
      "text/plain": [
       "<Figure size 1080x720 with 2 Axes>"
      ]
     },
     "metadata": {},
     "output_type": "display_data"
    }
   ],
   "source": [
    "#check for correlation among all the features\n",
    "plt.figure(figsize=(15,10))\n",
    "correlations = train.corr()\n",
    "sns.heatmap(correlations, cmap=\"coolwarm\", annot=True)\n",
    "plt.show()"
   ]
  },
  {
   "cell_type": "code",
   "execution_count": 112,
   "metadata": {},
   "outputs": [
    {
     "data": {
      "text/plain": [
       "merc        790\n",
       "vw          768\n",
       "ford        766\n",
       "bmw         638\n",
       "hyundi      511\n",
       "toyota      446\n",
       "skoda       425\n",
       "audi        343\n",
       "vauxhall    273\n",
       "Name: Company, dtype: int64"
      ]
     },
     "execution_count": 112,
     "metadata": {},
     "output_type": "execute_result"
    }
   ],
   "source": [
    "train.Company.value_counts()"
   ]
  },
  {
   "cell_type": "code",
   "execution_count": 113,
   "metadata": {},
   "outputs": [
    {
     "data": {
      "text/plain": [
       "<AxesSubplot:xlabel='Fuel', ylabel='count'>"
      ]
     },
     "execution_count": 113,
     "metadata": {},
     "output_type": "execute_result"
    },
    {
     "data": {
      "image/png": "[encoded data removed]",
      "text/plain": [
       "<Figure size 1080x720 with 1 Axes>"
      ]
     },
     "metadata": {},
     "output_type": "display_data"
    }
   ],
   "source": [
    "fig,ax = plt.subplots(figsize=(15,10))\n",
    "sns.countplot(x='Fuel',data=train)"
   ]
  },
  {
   "cell_type": "code",
   "execution_count": 114,
   "metadata": {},
   "outputs": [
    {
     "data": {
      "text/plain": [
       "<AxesSubplot:xlabel='Company', ylabel='Mileage'>"
      ]
     },
     "execution_count": 114,
     "metadata": {},
     "output_type": "execute_result"
    },
    {
     "data": {
      "image/png": "[encoded data removed]",
      "text/plain": [
       "<Figure size 1080x720 with 1 Axes>"
      ]
     },
     "metadata": {},
     "output_type": "display_data"
    }
   ],
   "source": [
    "#Comparing the mileage of car companies\n",
    "df2 = train.groupby('Company')['Mileage'].sum().reset_index()\n",
    "fig,ax = plt.subplots(figsize=(15,10))\n",
    "sns.barplot(x='Company',y='Mileage',data=df2)"
   ]
  },
  {
   "cell_type": "markdown",
   "metadata": {},
   "source": [
    "From the above graph we see that Ford has higher mileage as compared to Mercedes and VW despite having a low count from the other two."
   ]
  },
  {
   "cell_type": "code",
   "execution_count": 116,
   "metadata": {},
   "outputs": [
    {
     "data": {
      "text/plain": [
       "Diesel      2989\n",
       "Petrol      1754\n",
       "Hybrid       189\n",
       "Other         26\n",
       "Electric       2\n",
       "Name: Fuel, dtype: int64"
      ]
     },
     "execution_count": 116,
     "metadata": {},
     "output_type": "execute_result"
    }
   ],
   "source": [
    "train.Fuel.value_counts()"
   ]
  },
  {
   "cell_type": "code",
   "execution_count": 117,
   "metadata": {},
   "outputs": [
    {
     "data": {
      "text/plain": [
       "<AxesSubplot:xlabel='Company', ylabel='count'>"
      ]
     },
     "execution_count": 117,
     "metadata": {},
     "output_type": "execute_result"
    },
    {
     "data": {
      "image/png": "[encoded data removed]",
      "text/plain": [
       "<Figure size 1080x720 with 1 Axes>"
      ]
     },
     "metadata": {},
     "output_type": "display_data"
    }
   ],
   "source": [
    "#Lets check the fuel preference according to the car company\n",
    "fig,ax = plt.subplots(figsize=(15,10))\n",
    "sns.countplot(x='Company',hue='Fuel',data=train)"
   ]
  },
  {
   "cell_type": "code",
   "execution_count": 5,
   "metadata": {},
   "outputs": [],
   "source": [
    "#Dropping 'Car ID' column as it won't contribute in making predictions\n",
    "train.drop('Car ID',axis=1,inplace=True)"
   ]
  },
  {
   "cell_type": "code",
   "execution_count": 6,
   "metadata": {},
   "outputs": [
    {
     "data": {
      "text/html": [
       "<div>\n",
       "<style scoped>\n",
       "    .dataframe tbody tr th:only-of-type {\n",
       "        vertical-align: middle;\n",
       "    }\n",
       "\n",
       "    .dataframe tbody tr th {\n",
       "        vertical-align: top;\n",
       "    }\n",
       "\n",
       "    .dataframe thead th {\n",
       "        text-align: right;\n",
       "    }\n",
       "</style>\n",
       "<table border=\"1\" class=\"dataframe\">\n",
       "  <thead>\n",
       "    <tr style=\"text-align: right;\">\n",
       "      <th></th>\n",
       "      <th>Company</th>\n",
       "      <th>Model</th>\n",
       "      <th>Manufacture</th>\n",
       "      <th>Transmission</th>\n",
       "      <th>Travelled</th>\n",
       "      <th>Fuel</th>\n",
       "      <th>GST</th>\n",
       "      <th>Mileage</th>\n",
       "      <th>Engine</th>\n",
       "      <th>Price</th>\n",
       "    </tr>\n",
       "  </thead>\n",
       "  <tbody>\n",
       "    <tr>\n",
       "      <th>0</th>\n",
       "      <td>hyundi</td>\n",
       "      <td>Santa Fe</td>\n",
       "      <td>2019</td>\n",
       "      <td>Semi-Auto</td>\n",
       "      <td>4223</td>\n",
       "      <td>Diesel</td>\n",
       "      <td>145</td>\n",
       "      <td>39.8</td>\n",
       "      <td>2.2</td>\n",
       "      <td>31995</td>\n",
       "    </tr>\n",
       "    <tr>\n",
       "      <th>1</th>\n",
       "      <td>vauxhall</td>\n",
       "      <td>GTC</td>\n",
       "      <td>2015</td>\n",
       "      <td>Manual</td>\n",
       "      <td>47870</td>\n",
       "      <td>Diesel</td>\n",
       "      <td>125</td>\n",
       "      <td>60.1</td>\n",
       "      <td>2.0</td>\n",
       "      <td>7700</td>\n",
       "    </tr>\n",
       "    <tr>\n",
       "      <th>2</th>\n",
       "      <td>audi</td>\n",
       "      <td>RS4</td>\n",
       "      <td>2019</td>\n",
       "      <td>Automatic</td>\n",
       "      <td>5151</td>\n",
       "      <td>Petrol</td>\n",
       "      <td>145</td>\n",
       "      <td>29.1</td>\n",
       "      <td>2.9</td>\n",
       "      <td>58990</td>\n",
       "    </tr>\n",
       "    <tr>\n",
       "      <th>3</th>\n",
       "      <td>vw</td>\n",
       "      <td>Scirocco</td>\n",
       "      <td>2016</td>\n",
       "      <td>Automatic</td>\n",
       "      <td>20423</td>\n",
       "      <td>Diesel</td>\n",
       "      <td>30</td>\n",
       "      <td>57.6</td>\n",
       "      <td>2.0</td>\n",
       "      <td>12999</td>\n",
       "    </tr>\n",
       "    <tr>\n",
       "      <th>4</th>\n",
       "      <td>skoda</td>\n",
       "      <td>Scala</td>\n",
       "      <td>2020</td>\n",
       "      <td>Semi-Auto</td>\n",
       "      <td>3569</td>\n",
       "      <td>Petrol</td>\n",
       "      <td>145</td>\n",
       "      <td>47.1</td>\n",
       "      <td>1.0</td>\n",
       "      <td>16990</td>\n",
       "    </tr>\n",
       "  </tbody>\n",
       "</table>\n",
       "</div>"
      ],
      "text/plain": [
       "    Company      Model  Manufacture Transmission  Travelled    Fuel  GST  \\\n",
       "0    hyundi   Santa Fe         2019    Semi-Auto       4223  Diesel  145   \n",
       "1  vauxhall        GTC         2015       Manual      47870  Diesel  125   \n",
       "2      audi        RS4         2019    Automatic       5151  Petrol  145   \n",
       "3        vw   Scirocco         2016    Automatic      20423  Diesel   30   \n",
       "4     skoda      Scala         2020    Semi-Auto       3569  Petrol  145   \n",
       "\n",
       "   Mileage  Engine  Price  \n",
       "0     39.8     2.2  31995  \n",
       "1     60.1     2.0   7700  \n",
       "2     29.1     2.9  58990  \n",
       "3     57.6     2.0  12999  \n",
       "4     47.1     1.0  16990  "
      ]
     },
     "execution_count": 6,
     "metadata": {},
     "output_type": "execute_result"
    }
   ],
   "source": [
    "train.head()"
   ]
  },
  {
   "cell_type": "markdown",
   "metadata": {},
   "source": [
    "## Label Encoding Categorical variables"
   ]
  },
  {
   "cell_type": "code",
   "execution_count": 120,
   "metadata": {},
   "outputs": [
    {
     "data": {
      "text/plain": [
       "['Company', 'Model', 'Transmission', 'Fuel']"
      ]
     },
     "execution_count": 120,
     "metadata": {},
     "output_type": "execute_result"
    }
   ],
   "source": [
    "#creating a list of categorical columns\n",
    "colname = []\n",
    "for x in train.columns:\n",
    "    if train[x].dtype=='object':\n",
    "        colname.append(x)\n",
    "colname"
   ]
  },
  {
   "cell_type": "code",
   "execution_count": 121,
   "metadata": {},
   "outputs": [],
   "source": [
    "from sklearn.preprocessing import LabelEncoder\n",
    "le = LabelEncoder() \n",
    "\n",
    "for x in colname:\n",
    "    train[x]=le.fit_transform(train[x])"
   ]
  },
  {
   "cell_type": "code",
   "execution_count": 122,
   "metadata": {},
   "outputs": [
    {
     "data": {
      "text/html": [
       "<div>\n",
       "<style scoped>\n",
       "    .dataframe tbody tr th:only-of-type {\n",
       "        vertical-align: middle;\n",
       "    }\n",
       "\n",
       "    .dataframe tbody tr th {\n",
       "        vertical-align: top;\n",
       "    }\n",
       "\n",
       "    .dataframe thead th {\n",
       "        text-align: right;\n",
       "    }\n",
       "</style>\n",
       "<table border=\"1\" class=\"dataframe\">\n",
       "  <thead>\n",
       "    <tr style=\"text-align: right;\">\n",
       "      <th></th>\n",
       "      <th>Company</th>\n",
       "      <th>Model</th>\n",
       "      <th>Manufacture</th>\n",
       "      <th>Transmission</th>\n",
       "      <th>Travelled</th>\n",
       "      <th>Fuel</th>\n",
       "      <th>GST</th>\n",
       "      <th>Mileage</th>\n",
       "      <th>Engine</th>\n",
       "      <th>Price</th>\n",
       "    </tr>\n",
       "  </thead>\n",
       "  <tbody>\n",
       "    <tr>\n",
       "      <th>0</th>\n",
       "      <td>3</td>\n",
       "      <td>69</td>\n",
       "      <td>2019</td>\n",
       "      <td>3</td>\n",
       "      <td>4223</td>\n",
       "      <td>0</td>\n",
       "      <td>145</td>\n",
       "      <td>39.8</td>\n",
       "      <td>2.2</td>\n",
       "      <td>31995</td>\n",
       "    </tr>\n",
       "    <tr>\n",
       "      <th>1</th>\n",
       "      <td>7</td>\n",
       "      <td>30</td>\n",
       "      <td>2015</td>\n",
       "      <td>1</td>\n",
       "      <td>47870</td>\n",
       "      <td>0</td>\n",
       "      <td>125</td>\n",
       "      <td>60.1</td>\n",
       "      <td>2.0</td>\n",
       "      <td>7700</td>\n",
       "    </tr>\n",
       "    <tr>\n",
       "      <th>2</th>\n",
       "      <td>0</td>\n",
       "      <td>58</td>\n",
       "      <td>2019</td>\n",
       "      <td>0</td>\n",
       "      <td>5151</td>\n",
       "      <td>4</td>\n",
       "      <td>145</td>\n",
       "      <td>29.1</td>\n",
       "      <td>2.9</td>\n",
       "      <td>58990</td>\n",
       "    </tr>\n",
       "    <tr>\n",
       "      <th>3</th>\n",
       "      <td>8</td>\n",
       "      <td>71</td>\n",
       "      <td>2016</td>\n",
       "      <td>0</td>\n",
       "      <td>20423</td>\n",
       "      <td>0</td>\n",
       "      <td>30</td>\n",
       "      <td>57.6</td>\n",
       "      <td>2.0</td>\n",
       "      <td>12999</td>\n",
       "    </tr>\n",
       "    <tr>\n",
       "      <th>4</th>\n",
       "      <td>5</td>\n",
       "      <td>70</td>\n",
       "      <td>2020</td>\n",
       "      <td>3</td>\n",
       "      <td>3569</td>\n",
       "      <td>4</td>\n",
       "      <td>145</td>\n",
       "      <td>47.1</td>\n",
       "      <td>1.0</td>\n",
       "      <td>16990</td>\n",
       "    </tr>\n",
       "  </tbody>\n",
       "</table>\n",
       "</div>"
      ],
      "text/plain": [
       "   Company  Model  Manufacture  Transmission  Travelled  Fuel  GST  Mileage  \\\n",
       "0        3     69         2019             3       4223     0  145     39.8   \n",
       "1        7     30         2015             1      47870     0  125     60.1   \n",
       "2        0     58         2019             0       5151     4  145     29.1   \n",
       "3        8     71         2016             0      20423     0   30     57.6   \n",
       "4        5     70         2020             3       3569     4  145     47.1   \n",
       "\n",
       "   Engine  Price  \n",
       "0     2.2  31995  \n",
       "1     2.0   7700  \n",
       "2     2.9  58990  \n",
       "3     2.0  12999  \n",
       "4     1.0  16990  "
      ]
     },
     "execution_count": 122,
     "metadata": {},
     "output_type": "execute_result"
    }
   ],
   "source": [
    "train.head()"
   ]
  },
  {
   "cell_type": "markdown",
   "metadata": {},
   "source": [
    "From the above graph, we notice that Skoda is the only car company where people prefer Petrol rather than Diesel"
   ]
  },
  {
   "cell_type": "markdown",
   "metadata": {},
   "source": [
    "## Split the data into Train and Validation set"
   ]
  },
  {
   "cell_type": "code",
   "execution_count": 123,
   "metadata": {},
   "outputs": [],
   "source": [
    "X = train[['Company', 'Model', 'Manufacture', 'Transmission',\n",
    "       'Travelled', 'Fuel', 'GST', 'Mileage', 'Engine']]\n",
    "\n",
    "y = train['Price']"
   ]
  },
  {
   "cell_type": "code",
   "execution_count": 124,
   "metadata": {},
   "outputs": [],
   "source": [
    "X_train, X_test, y_train, y_test = train_test_split(X, y, test_size=0.2, random_state=10)"
   ]
  },
  {
   "cell_type": "markdown",
   "metadata": {},
   "source": [
    "## Model Building"
   ]
  },
  {
   "cell_type": "markdown",
   "metadata": {},
   "source": [
    "Linear Regression"
   ]
  },
  {
   "cell_type": "code",
   "execution_count": 125,
   "metadata": {},
   "outputs": [
    {
     "data": {
      "text/plain": [
       "LinearRegression()"
      ]
     },
     "execution_count": 125,
     "metadata": {},
     "output_type": "execute_result"
    }
   ],
   "source": [
    "from sklearn.linear_model import LinearRegression\n",
    "lr = LinearRegression()\n",
    "lr.fit(X_train, y_train)"
   ]
  },
  {
   "cell_type": "code",
   "execution_count": 126,
   "metadata": {},
   "outputs": [
    {
     "name": "stdout",
     "output_type": "stream",
     "text": [
      "MAE:  6521.788586933703\n",
      "MSE:  105058760.51228374\n",
      "RMSE:  10249.817584341867\n",
      "R-squared:  0.6433589660979959\n"
     ]
    }
   ],
   "source": [
    "lr_pred = lr.predict(X_test)\n",
    "from sklearn import metrics\n",
    "print('MAE: ',metrics.mean_absolute_error(y_test, lr_pred))\n",
    "print('MSE: ',metrics.mean_squared_error(y_test, lr_pred))\n",
    "print('RMSE: ',np.sqrt(metrics.mean_squared_error(y_test, lr_pred)))\n",
    "print('R-squared: ',metrics.r2_score(y_test, lr_pred))"
   ]
  },
  {
   "cell_type": "markdown",
   "metadata": {},
   "source": [
    "Decision Tree Regressor"
   ]
  },
  {
   "cell_type": "code",
   "execution_count": 127,
   "metadata": {},
   "outputs": [
    {
     "data": {
      "text/plain": [
       "DecisionTreeRegressor()"
      ]
     },
     "execution_count": 127,
     "metadata": {},
     "output_type": "execute_result"
    }
   ],
   "source": [
    "from sklearn.tree import DecisionTreeRegressor\n",
    "dtree = DecisionTreeRegressor()\n",
    "dtree.fit(X_train, y_train)"
   ]
  },
  {
   "cell_type": "code",
   "execution_count": 128,
   "metadata": {},
   "outputs": [
    {
     "name": "stdout",
     "output_type": "stream",
     "text": [
      "MAE:  2709.6532258064517\n",
      "MSE:  30819896.75\n",
      "RMSE:  5551.5670535444315\n",
      "R-squared:  0.895376265738564\n"
     ]
    }
   ],
   "source": [
    "dtree_pred = dtree.predict(X_test)\n",
    "from sklearn import metrics\n",
    "print('MAE: ',metrics.mean_absolute_error(y_test, dtree_pred))\n",
    "print('MSE: ',metrics.mean_squared_error(y_test, dtree_pred))\n",
    "print('RMSE: ',np.sqrt(metrics.mean_squared_error(y_test, dtree_pred)))\n",
    "print('R-squared: ',metrics.r2_score(y_test, dtree_pred))"
   ]
  },
  {
   "cell_type": "markdown",
   "metadata": {},
   "source": [
    "Random Forest Regressor"
   ]
  },
  {
   "cell_type": "code",
   "execution_count": 129,
   "metadata": {},
   "outputs": [
    {
     "data": {
      "text/plain": [
       "RandomForestRegressor()"
      ]
     },
     "execution_count": 129,
     "metadata": {},
     "output_type": "execute_result"
    }
   ],
   "source": [
    "from sklearn.ensemble import RandomForestRegressor\n",
    "rf = RandomForestRegressor()\n",
    "rf.fit(X_train, y_train)"
   ]
  },
  {
   "cell_type": "code",
   "execution_count": 130,
   "metadata": {},
   "outputs": [
    {
     "name": "stdout",
     "output_type": "stream",
     "text": [
      "MAE: 2179.0069436338135\n",
      "MSE: 21131462.29716015\n",
      "RMSE: 4596.897029210047\n",
      "R-squared: 0.9282654152326569\n"
     ]
    }
   ],
   "source": [
    "rf_pred = rf.predict(X_test)\n",
    "from sklearn import metrics\n",
    "print('MAE:',metrics.mean_absolute_error(y_test, rf_pred))\n",
    "print('MSE:',metrics.mean_squared_error(y_test, rf_pred))\n",
    "print('RMSE:',np.sqrt(metrics.mean_squared_error(y_test, rf_pred)))\n",
    "print('R-squared:',metrics.r2_score(y_test, rf_pred))"
   ]
  },
  {
   "cell_type": "markdown",
   "metadata": {},
   "source": [
    "Out of all the regression models, we can conclude that Random Forest Regressor performs the best as it has the lowest RMSE score and highest R-squared value."
   ]
  },
  {
   "cell_type": "code",
   "execution_count": 131,
   "metadata": {},
   "outputs": [
    {
     "data": {
      "text/plain": [
       "Text(0.5, 0, 'Random Forest Feature Importance')"
      ]
     },
     "execution_count": 131,
     "metadata": {},
     "output_type": "execute_result"
    },
    {
     "data": {
      "image/png": "[encoded data removed]",
      "text/plain": [
       "<Figure size 1080x720 with 1 Axes>"
      ]
     },
     "metadata": {},
     "output_type": "display_data"
    }
   ],
   "source": [
    "#Insights from the model on which factor contributes how much to the price\n",
    "fig,ax = plt.subplots(figsize=(15,10))\n",
    "sorted_idx = rf.feature_importances_.argsort()\n",
    "plt.barh(X.columns[sorted_idx], rf.feature_importances_[sorted_idx])\n",
    "plt.xlabel(\"Random Forest Feature Importance\")"
   ]
  },
  {
   "cell_type": "markdown",
   "metadata": {},
   "source": [
    "## Performing the predictions on Test Data"
   ]
  },
  {
   "cell_type": "code",
   "execution_count": 132,
   "metadata": {},
   "outputs": [
    {
     "data": {
      "text/html": [
       "<div>\n",
       "<style scoped>\n",
       "    .dataframe tbody tr th:only-of-type {\n",
       "        vertical-align: middle;\n",
       "    }\n",
       "\n",
       "    .dataframe tbody tr th {\n",
       "        vertical-align: top;\n",
       "    }\n",
       "\n",
       "    .dataframe thead th {\n",
       "        text-align: right;\n",
       "    }\n",
       "</style>\n",
       "<table border=\"1\" class=\"dataframe\">\n",
       "  <thead>\n",
       "    <tr style=\"text-align: right;\">\n",
       "      <th></th>\n",
       "      <th>Car ID</th>\n",
       "      <th>Company</th>\n",
       "      <th>Model</th>\n",
       "      <th>Manufacture</th>\n",
       "      <th>Transmission</th>\n",
       "      <th>Travelled</th>\n",
       "      <th>Fuel</th>\n",
       "      <th>GST</th>\n",
       "      <th>Mileage</th>\n",
       "      <th>Engine</th>\n",
       "    </tr>\n",
       "  </thead>\n",
       "  <tbody>\n",
       "    <tr>\n",
       "      <th>0</th>\n",
       "      <td>12000</td>\n",
       "      <td>merc</td>\n",
       "      <td>GLS Class</td>\n",
       "      <td>2017</td>\n",
       "      <td>Automatic</td>\n",
       "      <td>12046</td>\n",
       "      <td>Diesel</td>\n",
       "      <td>150</td>\n",
       "      <td>37.2</td>\n",
       "      <td>3.0</td>\n",
       "    </tr>\n",
       "    <tr>\n",
       "      <th>1</th>\n",
       "      <td>12001</td>\n",
       "      <td>vw</td>\n",
       "      <td>Amarok</td>\n",
       "      <td>2017</td>\n",
       "      <td>Automatic</td>\n",
       "      <td>37683</td>\n",
       "      <td>Diesel</td>\n",
       "      <td>260</td>\n",
       "      <td>36.2</td>\n",
       "      <td>3.0</td>\n",
       "    </tr>\n",
       "    <tr>\n",
       "      <th>2</th>\n",
       "      <td>12004</td>\n",
       "      <td>merc</td>\n",
       "      <td>GLS Class</td>\n",
       "      <td>2019</td>\n",
       "      <td>Automatic</td>\n",
       "      <td>10000</td>\n",
       "      <td>Diesel</td>\n",
       "      <td>145</td>\n",
       "      <td>34.0</td>\n",
       "      <td>3.0</td>\n",
       "    </tr>\n",
       "    <tr>\n",
       "      <th>3</th>\n",
       "      <td>12013</td>\n",
       "      <td>skoda</td>\n",
       "      <td>Scala</td>\n",
       "      <td>2019</td>\n",
       "      <td>Manual</td>\n",
       "      <td>3257</td>\n",
       "      <td>Petrol</td>\n",
       "      <td>145</td>\n",
       "      <td>49.6</td>\n",
       "      <td>1.0</td>\n",
       "    </tr>\n",
       "    <tr>\n",
       "      <th>4</th>\n",
       "      <td>12017</td>\n",
       "      <td>audi</td>\n",
       "      <td>RS6</td>\n",
       "      <td>2015</td>\n",
       "      <td>Semi-Auto</td>\n",
       "      <td>20982</td>\n",
       "      <td>Petrol</td>\n",
       "      <td>325</td>\n",
       "      <td>29.4</td>\n",
       "      <td>4.0</td>\n",
       "    </tr>\n",
       "  </tbody>\n",
       "</table>\n",
       "</div>"
      ],
      "text/plain": [
       "   Car ID Company       Model  Manufacture Transmission  Travelled    Fuel  \\\n",
       "0   12000    merc   GLS Class         2017    Automatic      12046  Diesel   \n",
       "1   12001      vw      Amarok         2017    Automatic      37683  Diesel   \n",
       "2   12004    merc   GLS Class         2019    Automatic      10000  Diesel   \n",
       "3   12013   skoda       Scala         2019       Manual       3257  Petrol   \n",
       "4   12017    audi         RS6         2015    Semi-Auto      20982  Petrol   \n",
       "\n",
       "   GST  Mileage  Engine  \n",
       "0  150     37.2     3.0  \n",
       "1  260     36.2     3.0  \n",
       "2  145     34.0     3.0  \n",
       "3  145     49.6     1.0  \n",
       "4  325     29.4     4.0  "
      ]
     },
     "execution_count": 132,
     "metadata": {},
     "output_type": "execute_result"
    }
   ],
   "source": [
    "test.head()"
   ]
  },
  {
   "cell_type": "code",
   "execution_count": 133,
   "metadata": {},
   "outputs": [],
   "source": [
    "df = pd.DataFrame.copy(test)"
   ]
  },
  {
   "cell_type": "code",
   "execution_count": 134,
   "metadata": {},
   "outputs": [],
   "source": [
    "for x in colname:\n",
    "    df[x]=le.fit_transform(df[x])"
   ]
  },
  {
   "cell_type": "code",
   "execution_count": 137,
   "metadata": {},
   "outputs": [],
   "source": [
    "df.drop('Car ID',axis=1,inplace=True)"
   ]
  },
  {
   "cell_type": "code",
   "execution_count": 138,
   "metadata": {},
   "outputs": [
    {
     "data": {
      "text/html": [
       "<div>\n",
       "<style scoped>\n",
       "    .dataframe tbody tr th:only-of-type {\n",
       "        vertical-align: middle;\n",
       "    }\n",
       "\n",
       "    .dataframe tbody tr th {\n",
       "        vertical-align: top;\n",
       "    }\n",
       "\n",
       "    .dataframe thead th {\n",
       "        text-align: right;\n",
       "    }\n",
       "</style>\n",
       "<table border=\"1\" class=\"dataframe\">\n",
       "  <thead>\n",
       "    <tr style=\"text-align: right;\">\n",
       "      <th></th>\n",
       "      <th>Company</th>\n",
       "      <th>Model</th>\n",
       "      <th>Manufacture</th>\n",
       "      <th>Transmission</th>\n",
       "      <th>Travelled</th>\n",
       "      <th>Fuel</th>\n",
       "      <th>GST</th>\n",
       "      <th>Mileage</th>\n",
       "      <th>Engine</th>\n",
       "    </tr>\n",
       "  </thead>\n",
       "  <tbody>\n",
       "    <tr>\n",
       "      <th>0</th>\n",
       "      <td>4</td>\n",
       "      <td>28</td>\n",
       "      <td>2017</td>\n",
       "      <td>0</td>\n",
       "      <td>12046</td>\n",
       "      <td>0</td>\n",
       "      <td>150</td>\n",
       "      <td>37.2</td>\n",
       "      <td>3.0</td>\n",
       "    </tr>\n",
       "    <tr>\n",
       "      <th>1</th>\n",
       "      <td>8</td>\n",
       "      <td>6</td>\n",
       "      <td>2017</td>\n",
       "      <td>0</td>\n",
       "      <td>37683</td>\n",
       "      <td>0</td>\n",
       "      <td>260</td>\n",
       "      <td>36.2</td>\n",
       "      <td>3.0</td>\n",
       "    </tr>\n",
       "    <tr>\n",
       "      <th>2</th>\n",
       "      <td>4</td>\n",
       "      <td>28</td>\n",
       "      <td>2019</td>\n",
       "      <td>0</td>\n",
       "      <td>10000</td>\n",
       "      <td>0</td>\n",
       "      <td>145</td>\n",
       "      <td>34.0</td>\n",
       "      <td>3.0</td>\n",
       "    </tr>\n",
       "    <tr>\n",
       "      <th>3</th>\n",
       "      <td>5</td>\n",
       "      <td>69</td>\n",
       "      <td>2019</td>\n",
       "      <td>1</td>\n",
       "      <td>3257</td>\n",
       "      <td>4</td>\n",
       "      <td>145</td>\n",
       "      <td>49.6</td>\n",
       "      <td>1.0</td>\n",
       "    </tr>\n",
       "    <tr>\n",
       "      <th>4</th>\n",
       "      <td>0</td>\n",
       "      <td>59</td>\n",
       "      <td>2015</td>\n",
       "      <td>3</td>\n",
       "      <td>20982</td>\n",
       "      <td>4</td>\n",
       "      <td>325</td>\n",
       "      <td>29.4</td>\n",
       "      <td>4.0</td>\n",
       "    </tr>\n",
       "  </tbody>\n",
       "</table>\n",
       "</div>"
      ],
      "text/plain": [
       "   Company  Model  Manufacture  Transmission  Travelled  Fuel  GST  Mileage  \\\n",
       "0        4     28         2017             0      12046     0  150     37.2   \n",
       "1        8      6         2017             0      37683     0  260     36.2   \n",
       "2        4     28         2019             0      10000     0  145     34.0   \n",
       "3        5     69         2019             1       3257     4  145     49.6   \n",
       "4        0     59         2015             3      20982     4  325     29.4   \n",
       "\n",
       "   Engine  \n",
       "0     3.0  \n",
       "1     3.0  \n",
       "2     3.0  \n",
       "3     1.0  \n",
       "4     4.0  "
      ]
     },
     "execution_count": 138,
     "metadata": {},
     "output_type": "execute_result"
    }
   ],
   "source": [
    "df.head()"
   ]
  },
  {
   "cell_type": "code",
   "execution_count": 139,
   "metadata": {},
   "outputs": [],
   "source": [
    "predictions = rf.predict(df)"
   ]
  },
  {
   "cell_type": "code",
   "execution_count": 140,
   "metadata": {},
   "outputs": [],
   "source": [
    "test['Price'] = predictions"
   ]
  },
  {
   "cell_type": "code",
   "execution_count": 142,
   "metadata": {},
   "outputs": [],
   "source": [
    "final_df = test[['Car ID','Price']]"
   ]
  },
  {
   "cell_type": "code",
   "execution_count": 145,
   "metadata": {},
   "outputs": [],
   "source": [
    "final_df.to_csv('output.csv',index=False)"
   ]
  }
 ],
 "metadata": {
  "kernelspec": {
   "display_name": "Python 3.8.8 ('base')",
   "language": "python",
   "name": "python3"
  },
  "language_info": {
   "codemirror_mode": {
    "name": "ipython",
    "version": 3
   },
   "file_extension": ".py",
   "mimetype": "text/x-python",
   "name": "python",
   "nbconvert_exporter": "python",
   "pygments_lexer": "ipython3",
   "version": "3.8.8"
  },
  "orig_nbformat": 4,
  "vscode": {
   "interpreter": {
    "hash": "21f45bf181aa0ec0d11c9c9c911081de54b34bcdde157476c8d8b4e4621b12b9"
   }
  }
 },
 "nbformat": 4,
 "nbformat_minor": 2
}
